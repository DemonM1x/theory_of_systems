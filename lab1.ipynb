{
 "cells": [
  {
   "cell_type": "code",
   "id": "initial_id",
   "metadata": {
    "collapsed": true,
    "ExecuteTime": {
     "end_time": "2025-02-23T12:47:14.802708Z",
     "start_time": "2025-02-23T12:47:07.440187Z"
    }
   },
   "source": [
    "!pip install transitions\n",
    "import transitions\n",
    "from transitions import Machine"
   ],
   "outputs": [
    {
     "name": "stdout",
     "output_type": "stream",
     "text": [
      "Requirement already satisfied: transitions in c:\\users\\slava\\appdata\\local\\programs\\python\\python312\\lib\\site-packages (0.9.2)\n",
      "Requirement already satisfied: six in c:\\users\\slava\\appdata\\local\\programs\\python\\python312\\lib\\site-packages (from transitions) (1.16.0)\n"
     ]
    }
   ],
   "execution_count": 6
  },
  {
   "metadata": {
    "ExecuteTime": {
     "end_time": "2025-02-11T19:50:07.096835Z",
     "start_time": "2025-02-11T19:50:07.082836Z"
    }
   },
   "cell_type": "code",
   "source": [
    "class Matter(object):\n",
    "    pass\n",
    "\n",
    "lump = Matter()\n",
    "\n",
    "# Полный список состояний\n",
    "states=['idle', 'armed', 'armed_with_delay', 'alarm', 'fault']\n",
    "\n",
    "# Добавляем таблицу переходов — из какое в какое состояние мы можем попасть\n",
    "transitions = [\n",
    "    { 'trigger': 'arm', 'source': 'idle', 'dest': 'armed' },\n",
    "    { 'trigger': 'arm_with_delay', 'source': 'idle', 'dest': 'armed_with_delay' },\n",
    "    { 'trigger': 'disarm', 'source': 'armed', 'dest': 'idle' },\n",
    "    { 'trigger': 'disarm', 'source': 'armed_with_delay', 'dest': 'idle' },\n",
    "    { 'trigger': 'intrusion_detected', 'source': 'armed', 'dest': 'alarm' },\n",
    "    { 'trigger': 'intrusion_detected', 'source': 'armed_with_delay', 'dest': 'alarm' },\n",
    "    { 'trigger': 'sensor_ok', 'source': 'fault', 'dest': 'idle' },\n",
    "    { 'trigger': 'delay_timer_expired', 'source': 'armed_with_delay', 'dest': 'armed' },\n",
    "    { 'trigger': 'sensor_malfunction', 'source': 'armed', 'dest': 'fault' },\n",
    "    { 'trigger': 'sensor_malfunction', 'source': 'armed_with_delay', 'dest': 'fault' }\n",
    "]"
   ],
   "id": "84f1afdc728a58a5",
   "outputs": [],
   "execution_count": 17
  },
  {
   "metadata": {
    "ExecuteTime": {
     "end_time": "2025-02-23T12:47:34.550868Z",
     "start_time": "2025-02-23T12:47:34.541835Z"
    }
   },
   "cell_type": "code",
   "source": [
    "class Matter(object):\n",
    "    pass\n",
    "\n",
    "lump = Matter()\n",
    "\n",
    "# Полный список состояний\n",
    "states=['S1', 'S2', 'S3', 'S4', 'S5', 'S6']\n",
    "\n",
    "# Добавляем таблицу переходов — из какое в какое состояние мы можем попасть\n",
    "transitions = [\n",
    "    { 'trigger': 'a', 'source': 'S1', 'dest': 'S2' },\n",
    "    { 'trigger': 'a', 'source': 'S2', 'dest': 'S2' },\n",
    "    { 'trigger': 'c', 'source': 'S2', 'dest': 'S2' },\n",
    "    { 'trigger': 'b', 'source': 'S2', 'dest': 'S3' },\n",
    "    { 'trigger': 'a', 'source': 'S3', 'dest': 'S3' },\n",
    "    { 'trigger': 'c', 'source': 'S3', 'dest': 'S3' },\n",
    "    { 'trigger': 'b', 'source': 'S3', 'dest': 'S4' },\n",
    "    { 'trigger': 'a', 'source': 'S4', 'dest': 'S4' },\n",
    "    { 'trigger': 'c', 'source': 'S4', 'dest': 'S5' },\n",
    "    { 'trigger': 'a', 'source': 'S5', 'dest': 'S4' },\n",
    "    { 'trigger': 'c', 'source': 'S5', 'dest': 'S6' },\n",
    "    { 'trigger': 'a', 'source': 'S6', 'dest': 'S4' },\n",
    "    { 'trigger': 'c', 'source': 'S6', 'dest': 'S6' }\n",
    "]"
   ],
   "id": "3b8dff1df70d257a",
   "outputs": [],
   "execution_count": 8
  },
  {
   "metadata": {},
   "cell_type": "markdown",
   "source": "Входная цепочка: abbaacc - корректно",
   "id": "da8ba437c67aa82"
  },
  {
   "metadata": {
    "ExecuteTime": {
     "end_time": "2025-02-23T12:47:38.085281Z",
     "start_time": "2025-02-23T12:47:38.075590Z"
    }
   },
   "cell_type": "code",
   "source": [
    "from transitions import MachineError\n",
    "machine = Machine(lump, states=states, transitions=transitions, initial='S1')\n",
    "try:\n",
    "    lump.a()\n",
    "    print(lump.state)\n",
    "    \n",
    "    lump.b()\n",
    "    print(lump.state)\n",
    "\n",
    "    lump.b()\n",
    "    print(lump.state)\n",
    "\n",
    "    lump.a()\n",
    "    print(lump.state)\n",
    "\n",
    "    lump.a()\n",
    "    print(lump.state)\n",
    "\n",
    "    lump.c()\n",
    "    print(lump.state)\n",
    "\n",
    "    lump.c()\n",
    "    print(lump.state)\n",
    "    \n",
    "except MachineError as error:\n",
    "    print(error)\n",
    "    "
   ],
   "id": "d20d5feabdd5eb23",
   "outputs": [
    {
     "name": "stdout",
     "output_type": "stream",
     "text": [
      "S2\n",
      "S3\n",
      "S4\n",
      "S4\n",
      "S4\n",
      "S5\n",
      "S6\n"
     ]
    }
   ],
   "execution_count": 9
  },
  {
   "metadata": {},
   "cell_type": "markdown",
   "source": "Входная цепочка: aabcbaccacc - корректно",
   "id": "5774a57f6dc2713b"
  },
  {
   "metadata": {
    "ExecuteTime": {
     "end_time": "2025-02-23T12:49:12.065515Z",
     "start_time": "2025-02-23T12:49:12.052587Z"
    }
   },
   "cell_type": "code",
   "source": [
    "from transitions import MachineError\n",
    "machine = Machine(lump, states=states, transitions=transitions, initial='S1')\n",
    "try:\n",
    "    lump.a()\n",
    "    print(lump.state)\n",
    "    lump.a()\n",
    "    print(lump.state)\n",
    "    lump.b()\n",
    "    print(lump.state)\n",
    "    lump.c()\n",
    "    print(lump.state)   \n",
    "    lump.b()\n",
    "    print(lump.state)\n",
    "    lump.a()\n",
    "    print(lump.state)\n",
    "    lump.a()\n",
    "    print(lump.state)\n",
    "    lump.c()\n",
    "    print(lump.state)\n",
    "    lump.c()\n",
    "    print(lump.state)\n",
    "    lump.a()\n",
    "    print(lump.state)  \n",
    "    lump.c()\n",
    "    print(lump.state)\n",
    "    lump.c()\n",
    "    print(lump.state)\n",
    "    \n",
    "except MachineError as error:\n",
    "    print(error)"
   ],
   "id": "7fcf19d27abb615f",
   "outputs": [
    {
     "name": "stdout",
     "output_type": "stream",
     "text": [
      "S2\n",
      "S2\n",
      "S3\n",
      "S3\n",
      "S4\n",
      "S4\n",
      "S4\n",
      "S5\n",
      "S6\n",
      "S4\n",
      "S5\n",
      "S6\n"
     ]
    }
   ],
   "execution_count": 10
  },
  {
   "metadata": {},
   "cell_type": "markdown",
   "source": "Входная цепочка: acbbcacc - корректно",
   "id": "c6d96f36942e46e8"
  },
  {
   "metadata": {
    "ExecuteTime": {
     "end_time": "2025-02-23T12:51:18.296260Z",
     "start_time": "2025-02-23T12:51:18.284069Z"
    }
   },
   "cell_type": "code",
   "source": [
    "from transitions import MachineError\n",
    "machine = Machine(lump, states=states, transitions=transitions, initial='S1')\n",
    "try:\n",
    "    lump.a()\n",
    "    print(lump.state)\n",
    "\n",
    "    lump.c()\n",
    "    print(lump.state)\n",
    "         \n",
    "    lump.b()\n",
    "    print(lump.state)\n",
    "  \n",
    "    lump.b()\n",
    "    print(lump.state)\n",
    "   \n",
    "    lump.c()\n",
    "    print(lump.state)\n",
    "\n",
    "    lump.a()\n",
    "    print(lump.state)    \n",
    "    \n",
    "    lump.c()\n",
    "    print(lump.state)\n",
    "    \n",
    "    lump.c()\n",
    "    print(lump.state)\n",
    "    \n",
    "    \n",
    "except MachineError as error:\n",
    "    print(error)"
   ],
   "id": "a6583c61c588ac6c",
   "outputs": [
    {
     "name": "stdout",
     "output_type": "stream",
     "text": [
      "S2\n",
      "S2\n",
      "S3\n",
      "S4\n",
      "S5\n",
      "S4\n",
      "S5\n",
      "S6\n"
     ]
    }
   ],
   "execution_count": 11
  },
  {
   "metadata": {},
   "cell_type": "markdown",
   "source": "Входная цепочка: abcabcc - корректно",
   "id": "9508d4fdba409aa7"
  },
  {
   "metadata": {
    "ExecuteTime": {
     "end_time": "2025-02-23T12:52:45.569451Z",
     "start_time": "2025-02-23T12:52:45.556072Z"
    }
   },
   "cell_type": "code",
   "source": [
    "from transitions import MachineError\n",
    "machine = Machine(lump, states=states, transitions=transitions, initial='S1')\n",
    "try:\n",
    "    lump.a()\n",
    "    print(lump.state)\n",
    "     \n",
    "    lump.b()\n",
    "    print(lump.state)\n",
    "    \n",
    "    lump.c()\n",
    "    print(lump.state)\n",
    "    \n",
    "    lump.a()\n",
    "    print(lump.state)\n",
    "  \n",
    "    lump.b()\n",
    "    print(lump.state)\n",
    "     \n",
    "    lump.c()\n",
    "    print(lump.state)\n",
    "    \n",
    "    lump.c()\n",
    "    print(lump.state)\n",
    "    \n",
    "    \n",
    "except MachineError as error:\n",
    "    print(error)"
   ],
   "id": "ba6751bd2cb91eb1",
   "outputs": [
    {
     "name": "stdout",
     "output_type": "stream",
     "text": [
      "S2\n",
      "S3\n",
      "S3\n",
      "S3\n",
      "S4\n",
      "S5\n",
      "S6\n"
     ]
    }
   ],
   "execution_count": 12
  },
  {
   "metadata": {},
   "cell_type": "markdown",
   "source": "Входная цепочка: babcc - Ошибка, не может быть вызван символ b из состояния S1",
   "id": "1db3d6c1af280eb2"
  },
  {
   "metadata": {
    "ExecuteTime": {
     "end_time": "2025-02-23T12:53:37.140131Z",
     "start_time": "2025-02-23T12:53:37.126421Z"
    }
   },
   "cell_type": "code",
   "source": [
    "from transitions import MachineError\n",
    "machine = Machine(lump, states=states, transitions=transitions, initial='S1')\n",
    "try:\n",
    "     \n",
    "    lump.b()\n",
    "    print(lump.state)\n",
    "    \n",
    "    \n",
    "    lump.a()\n",
    "    print(lump.state)\n",
    "  \n",
    "    lump.b()\n",
    "    print(lump.state)\n",
    "     \n",
    "    lump.c()\n",
    "    print(lump.state)\n",
    "    \n",
    "    lump.c()\n",
    "    print(lump.state)\n",
    "    \n",
    "    \n",
    "except MachineError as error:\n",
    "    print(error)"
   ],
   "id": "e1dcaa925d6e1f35",
   "outputs": [
    {
     "name": "stdout",
     "output_type": "stream",
     "text": [
      "\"Can't trigger event b from state S1!\"\n"
     ]
    }
   ],
   "execution_count": 13
  },
  {
   "metadata": {},
   "cell_type": "markdown",
   "source": "Входная цепочка: ababc - Ошибка, состояние S5 не является конечным",
   "id": "b4334e3ca612616c"
  },
  {
   "metadata": {
    "ExecuteTime": {
     "end_time": "2025-02-23T12:54:17.885204Z",
     "start_time": "2025-02-23T12:54:17.875929Z"
    }
   },
   "cell_type": "code",
   "source": [
    "from transitions import MachineError\n",
    "machine = Machine(lump, states=states, transitions=transitions, initial='S1')\n",
    "try:\n",
    "    \n",
    "    lump.a()\n",
    "    print(lump.state)\n",
    "     \n",
    "    lump.b()\n",
    "    print(lump.state)\n",
    "    \n",
    "    lump.a()\n",
    "    print(lump.state)\n",
    "  \n",
    "    lump.b()\n",
    "    print(lump.state)\n",
    "     \n",
    "    lump.c()\n",
    "    print(lump.state)\n",
    "    \n",
    "      \n",
    "except MachineError as error:\n",
    "    print(error)"
   ],
   "id": "7e833e4ad13a9d0d",
   "outputs": [
    {
     "name": "stdout",
     "output_type": "stream",
     "text": [
      "S2\n",
      "S3\n",
      "S3\n",
      "S4\n",
      "S5\n"
     ]
    }
   ],
   "execution_count": 14
  },
  {
   "metadata": {},
   "cell_type": "markdown",
   "source": "",
   "id": "da30297153b780e"
  },
  {
   "metadata": {},
   "cell_type": "markdown",
   "source": "Входная цепочка: ababbc - Ошибка, не может быть вызван символ b из состояния S4",
   "id": "6eeca092eeb49324"
  },
  {
   "metadata": {
    "ExecuteTime": {
     "end_time": "2025-02-23T12:55:00.232505Z",
     "start_time": "2025-02-23T12:55:00.217597Z"
    }
   },
   "cell_type": "code",
   "source": [
    "from transitions import MachineError\n",
    "machine = Machine(lump, states=states, transitions=transitions, initial='S1')\n",
    "try:\n",
    "    \n",
    "    lump.a()\n",
    "    print(lump.state)\n",
    "     \n",
    "    lump.b()\n",
    "    print(lump.state)\n",
    "    \n",
    "    \n",
    "    lump.a()\n",
    "    print(lump.state)\n",
    "  \n",
    "    lump.b()\n",
    "    print(lump.state)\n",
    "    \n",
    "    lump.b()\n",
    "    print(lump.state)\n",
    "     \n",
    "    lump.c()\n",
    "    print(lump.state)\n",
    "    \n",
    "      \n",
    "except MachineError as error:\n",
    "    print(error)"
   ],
   "id": "635269aa6a83770",
   "outputs": [
    {
     "name": "stdout",
     "output_type": "stream",
     "text": [
      "S2\n",
      "S3\n",
      "S3\n",
      "S4\n",
      "\"Can't trigger event b from state S4!\"\n"
     ]
    }
   ],
   "execution_count": 16
  },
  {
   "metadata": {},
   "cell_type": "markdown",
   "source": "Входная цепочка: ababca - Ошибка, состояние S4 не является конечным",
   "id": "7e7648a9f05d69f7"
  },
  {
   "metadata": {
    "ExecuteTime": {
     "end_time": "2025-02-23T12:55:53.588803Z",
     "start_time": "2025-02-23T12:55:53.572882Z"
    }
   },
   "cell_type": "code",
   "source": [
    "from transitions import MachineError\n",
    "machine = Machine(lump, states=states, transitions=transitions, initial='S1')\n",
    "try:\n",
    "    \n",
    "    lump.a()\n",
    "    print(lump.state)\n",
    "     \n",
    "    lump.b()\n",
    "    print(lump.state)\n",
    "    \n",
    "    lump.a()\n",
    "    print(lump.state)\n",
    "  \n",
    "    lump.b()\n",
    "    print(lump.state)\n",
    "    \n",
    "    lump.c()\n",
    "    print(lump.state)\n",
    "    \n",
    "    lump.a()\n",
    "    print(lump.state)\n",
    "    \n",
    "      \n",
    "except MachineError as error:\n",
    "    print(error)"
   ],
   "id": "45d1bba4e95c593e",
   "outputs": [
    {
     "name": "stdout",
     "output_type": "stream",
     "text": [
      "S2\n",
      "S3\n",
      "S3\n",
      "S4\n",
      "S5\n",
      "S4\n"
     ]
    }
   ],
   "execution_count": 17
  },
  {
   "metadata": {
    "ExecuteTime": {
     "end_time": "2025-02-23T12:47:02.785277Z",
     "start_time": "2025-02-23T12:47:02.758673Z"
    }
   },
   "cell_type": "code",
   "source": [
    "from transitions import MachineError\n",
    "machine = Machine(lump, states=states, transitions=transitions, initial='idle')\n",
    "try:\n",
    "    lump.arm_with_delay()\n",
    "    print(lump.state)\n",
    "\n",
    "    lump.delay_timer_expired()\n",
    "    print(lump.state)\n",
    "\n",
    "    lump.intrusion_detected()\n",
    "    print(lump.state)\n",
    "\n",
    "except MachineError as error:\n",
    "    print(error)"
   ],
   "id": "ee44eb7f779b183",
   "outputs": [
    {
     "ename": "NameError",
     "evalue": "name 'Machine' is not defined",
     "output_type": "error",
     "traceback": [
      "\u001B[1;31m---------------------------------------------------------------------------\u001B[0m",
      "\u001B[1;31mNameError\u001B[0m                                 Traceback (most recent call last)",
      "Cell \u001B[1;32mIn[5], line 2\u001B[0m\n\u001B[0;32m      1\u001B[0m \u001B[38;5;28;01mfrom\u001B[39;00m \u001B[38;5;21;01mtransitions\u001B[39;00m \u001B[38;5;28;01mimport\u001B[39;00m MachineError\n\u001B[1;32m----> 2\u001B[0m machine \u001B[38;5;241m=\u001B[39m \u001B[43mMachine\u001B[49m(lump, states\u001B[38;5;241m=\u001B[39mstates, transitions\u001B[38;5;241m=\u001B[39mtransitions, initial\u001B[38;5;241m=\u001B[39m\u001B[38;5;124m'\u001B[39m\u001B[38;5;124midle\u001B[39m\u001B[38;5;124m'\u001B[39m)\n\u001B[0;32m      3\u001B[0m \u001B[38;5;28;01mtry\u001B[39;00m:\n\u001B[0;32m      4\u001B[0m     lump\u001B[38;5;241m.\u001B[39marm_with_delay()\n",
      "\u001B[1;31mNameError\u001B[0m: name 'Machine' is not defined"
     ]
    }
   ],
   "execution_count": 5
  },
  {
   "metadata": {
    "ExecuteTime": {
     "end_time": "2025-02-11T19:50:15.912749Z",
     "start_time": "2025-02-11T19:50:15.907422Z"
    }
   },
   "cell_type": "code",
   "source": [
    "machine = Machine(lump, states=states, transitions=transitions, initial='idle')\n",
    "try:\n",
    "    lump.arm()\n",
    "    print(lump.state)\n",
    "    lump.sensor_malfunction()\n",
    "    print(lump.state)\n",
    "    lump.sensor_ok()\n",
    "    print(lump.state)\n",
    "    lump.arm_with_delay()\n",
    "    print(lump.state)\n",
    "    lump.delay_timer_expired()\n",
    "    print(lump.state) \n",
    "    lump.disarm()\n",
    "    print(lump.state)\n",
    "except MachineError as error:\n",
    "    print(error)"
   ],
   "id": "96bdd5d543d376d7",
   "outputs": [
    {
     "name": "stdout",
     "output_type": "stream",
     "text": [
      "armed\n",
      "fault\n",
      "idle\n",
      "armed_with_delay\n",
      "armed\n",
      "idle\n"
     ]
    }
   ],
   "execution_count": 19
  }
 ],
 "metadata": {
  "kernelspec": {
   "display_name": "Python 3",
   "language": "python",
   "name": "python3"
  },
  "language_info": {
   "codemirror_mode": {
    "name": "ipython",
    "version": 2
   },
   "file_extension": ".py",
   "mimetype": "text/x-python",
   "name": "python",
   "nbconvert_exporter": "python",
   "pygments_lexer": "ipython2",
   "version": "2.7.6"
  }
 },
 "nbformat": 4,
 "nbformat_minor": 5
}
